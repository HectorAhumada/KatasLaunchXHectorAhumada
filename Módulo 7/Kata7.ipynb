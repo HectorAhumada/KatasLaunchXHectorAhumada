{
 "cells": [
  {
   "cell_type": "markdown",
   "metadata": {},
   "source": [
    "# Problema No.1 & Problema No.2"
   ]
  },
  {
   "cell_type": "code",
   "execution_count": 9,
   "metadata": {},
   "outputs": [
    {
     "name": "stdout",
     "output_type": "stream",
     "text": [
      "List of input planets: \n",
      "Earth\n",
      "Mars\n",
      "Neptune\n",
      "PlanetX\n"
     ]
    }
   ],
   "source": [
    "# Declara variables\n",
    "new_planet = ''\n",
    "planets = []\n",
    "\n",
    "# While\n",
    "while(new_planet != \"done\"):\n",
    "    new_planet = input(\"Input the name of the planet to add, type 'done' to exit: \")\n",
    "    if(new_planet and new_planet != \"done\"):\n",
    "        planets.append(new_planet)\n",
    "\n",
    "# Problema No.2: For\n",
    "if(len(planets) != 0):\n",
    "    print(\"List of input planets: \")\n",
    "    for planet in planets:\n",
    "        print(planet)\n",
    "else:\n",
    "    print(\"No planets input.\")"
   ]
  }
 ],
 "metadata": {
  "interpreter": {
   "hash": "935b385a7d96bf7e0a76d9df1bf8edc07b604d37aea20d80398f50ca39d77283"
  },
  "kernelspec": {
   "display_name": "Python 3.10.0 64-bit",
   "language": "python",
   "name": "python3"
  },
  "language_info": {
   "codemirror_mode": {
    "name": "ipython",
    "version": 3
   },
   "file_extension": ".py",
   "mimetype": "text/x-python",
   "name": "python",
   "nbconvert_exporter": "python",
   "pygments_lexer": "ipython3",
   "version": "3.10.0"
  },
  "orig_nbformat": 4
 },
 "nbformat": 4,
 "nbformat_minor": 2
}
