{
 "cells": [
  {
   "cell_type": "markdown",
   "metadata": {},
   "source": [
    "# Problema No.1"
   ]
  },
  {
   "cell_type": "code",
   "execution_count": 1,
   "metadata": {},
   "outputs": [
    {
     "name": "stdout",
     "output_type": "stream",
     "text": [
      "Advertencia, el asteroide viaja demasiado rápido a la tierra\n"
     ]
    }
   ],
   "source": [
    "velocidadAsteroide = 49\n",
    "if (velocidadAsteroide > 25):\n",
    "    print(\"Advertencia, el asteroide viaja demasiado rápido a la tierra\")\n",
    "else:\n",
    "    print(\"El asteroide se está moviendo a una velocidad normal\")"
   ]
  },
  {
   "cell_type": "markdown",
   "metadata": {},
   "source": [
    "# Problema No.2"
   ]
  },
  {
   "cell_type": "code",
   "execution_count": 5,
   "metadata": {},
   "outputs": [
    {
     "name": "stdout",
     "output_type": "stream",
     "text": [
      "Kezezo? Un avión? Un ave? Superman? Sepa\n"
     ]
    }
   ],
   "source": [
    "velocidadAsteroide = 19\n",
    "if(velocidadAsteroide < 20):\n",
    "    print(\"Kezezo? Un avión? Un ave? Superman? Sepa\")\n",
    "elif(velocidadAsteroide == 20):\n",
    "    print(\"OMG! Volteen a ver el cielo! Se puede ver una luz proveniente de un asteroide!\")\n",
    "else:\n",
    "    print(\"LES ESTOY DICIENDO QUE VOLTEEN HAY UN ASTEROIDE SOLTANDO LUZ EN LA ESTRATÓSFERA\")"
   ]
  },
  {
   "cell_type": "markdown",
   "metadata": {},
   "source": [
    "# Problema No.3"
   ]
  },
  {
   "cell_type": "code",
   "execution_count": 10,
   "metadata": {},
   "outputs": [
    {
     "name": "stdout",
     "output_type": "stream",
     "text": [
      "EMERGENCIA! TODOS AL BUNKER ANTI ASTEROIDES WIIUUWIIUU 🚑\n"
     ]
    }
   ],
   "source": [
    "velocidadAsteroide = 21\n",
    "tamañoAsteroide = 100\n",
    "if(tamañoAsteroide > 25 or velocidadAsteroide > 25):\n",
    "    print(\"EMERGENCIA! TODOS AL BUNKER ANTI ASTEROIDES WIIUUWIIUU 🚑\")\n",
    "elif(velocidadAsteroide >= 20):\n",
    "    print(\"Miren, hay una luz en el cielo! ☄️\")\n",
    "else:\n",
    "    print(\"Si quieren ver asteroides, mejor ponganse a ver The Expanse en Amazon Prime Video #ad\")"
   ]
  }
 ],
 "metadata": {
  "interpreter": {
   "hash": "935b385a7d96bf7e0a76d9df1bf8edc07b604d37aea20d80398f50ca39d77283"
  },
  "kernelspec": {
   "display_name": "Python 3.10.0 64-bit",
   "language": "python",
   "name": "python3"
  },
  "language_info": {
   "codemirror_mode": {
    "name": "ipython",
    "version": 3
   },
   "file_extension": ".py",
   "mimetype": "text/x-python",
   "name": "python",
   "nbconvert_exporter": "python",
   "pygments_lexer": "ipython3",
   "version": "3.10.0"
  },
  "orig_nbformat": 4
 },
 "nbformat": 4,
 "nbformat_minor": 2
}
