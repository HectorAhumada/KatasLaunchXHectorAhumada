{
 "cells": [
  {
   "cell_type": "markdown",
   "metadata": {},
   "source": [
    "# Problema No.1"
   ]
  },
  {
   "cell_type": "code",
   "execution_count": 11,
   "metadata": {},
   "outputs": [
    {
     "name": "stdout",
     "output_type": "stream",
     "text": [
      " \n",
      "On average, the Moon moves 4cm away from the Earth every year\n",
      " The highest daylight temperature of the Moon is 127 Celsius\n"
     ]
    }
   ],
   "source": [
    "text = \"\"\"Interesting facts about the Moon. The Moon is Earth's only satellite. There are several interesting facts about the Moon and how it affects life here on Earth. \n",
    "On average, the Moon moves 4cm away from the Earth every year. This yearly drift is not significant enough to cause immediate effects on Earth. The highest daylight temperature of the Moon is 127 C.\"\"\"\n",
    "\n",
    "# Divide el texto\n",
    "textoDividido = text.split('.')\n",
    "# Define las palabras pista\n",
    "palabrasClave = ['average', 'temperature', 'distance']\n",
    "# Ciclo para recorrer la cadena y cambiar C a Celsius\n",
    "for sentencia in textoDividido:\n",
    "    if(any(palabra in sentencia for palabra in palabrasClave)):\n",
    "        sentencia = sentencia.replace(\"C\", \"Celsius\")\n",
    "        print(sentencia)"
   ]
  },
  {
   "cell_type": "markdown",
   "metadata": {},
   "source": [
    "# Problema No.2"
   ]
  },
  {
   "cell_type": "code",
   "execution_count": 29,
   "metadata": {},
   "outputs": [
    {
     "name": "stdout",
     "output_type": "stream",
     "text": [
      "Gravity Facts About Moon\n",
      "---------------------------------------------------------------------------------------------------------------------\n",
      "Planet Name: Earth\n",
      "Gravity on Moon: 1.6199999999999999 m/s2\n",
      "\n",
      "Gravity Facts About Moon\n",
      "---------------------------------------------------------------------------------------------------------------------\n",
      "Planet Name: Mars\n",
      "Gravity on Ganymede: 1.4300000000000002 m/s2\n",
      "\n"
     ]
    }
   ],
   "source": [
    "# Datos con los que vas a trabajar\n",
    "name = \"Moon\"\n",
    "gravity = 0.00162 # in kms (Assuming this is actually km/s2 otherwise good luck converting from km/s to m/s2)\n",
    "planet = \"Earth\"\n",
    "\n",
    "# Creamos el título\n",
    "title = str(\"gravity facts about \" + name).title()\n",
    "\n",
    "# Creamos la plantilla\n",
    "template = f\"\"\"{title}\n",
    "---------------------------------------------------------------------------------------------------------------------\n",
    "Planet Name: {planet}\n",
    "Gravity on {name}: {gravity*1000} m/s2\n",
    "\"\"\"\n",
    "\n",
    "# Comprueba la plantilla\n",
    "print(template)\n",
    "\n",
    "# Cambio a otros datos\n",
    "name = \"Ganymede\"\n",
    "gravity = 0.00143 # in kms (Assuming this is actually km/s2 otherwise good luck converting from km/s to m/s2)\n",
    "planet = \"Mars\"\n",
    "\n",
    "newTemplate = \"\"\"{title}\n",
    "---------------------------------------------------------------------------------------------------------------------\n",
    "Planet Name: {planet}\n",
    "Gravity on {moon}: {gravity} m/s2\n",
    "\"\"\".format(title=title, planet=planet, moon=name, gravity=gravity*1000)\n",
    "\n",
    "print(newTemplate)"
   ]
  }
 ],
 "metadata": {
  "interpreter": {
   "hash": "935b385a7d96bf7e0a76d9df1bf8edc07b604d37aea20d80398f50ca39d77283"
  },
  "kernelspec": {
   "display_name": "Python 3.10.0 64-bit",
   "language": "python",
   "name": "python3"
  },
  "language_info": {
   "codemirror_mode": {
    "name": "ipython",
    "version": 3
   },
   "file_extension": ".py",
   "mimetype": "text/x-python",
   "name": "python",
   "nbconvert_exporter": "python",
   "pygments_lexer": "ipython3",
   "version": "3.10.0"
  },
  "orig_nbformat": 4
 },
 "nbformat": 4,
 "nbformat_minor": 2
}
