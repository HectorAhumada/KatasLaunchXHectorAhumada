{
 "cells": [
  {
   "cell_type": "markdown",
   "metadata": {},
   "source": [
    "# Problema No.1"
   ]
  },
  {
   "cell_type": "code",
   "execution_count": 3,
   "metadata": {},
   "outputs": [
    {
     "name": "stdout",
     "output_type": "stream",
     "text": [
      "La distancia entre planteas es de 628949330 km, lo equivalente a 390577534 millas\n"
     ]
    }
   ],
   "source": [
    "distanciaTierra = 149597870\n",
    "distanciaJupiter = 778547200\n",
    "distanciaEntrePlanetas = abs(distanciaTierra - distanciaJupiter)\n",
    "print(f\"La distancia entre planteas es de {distanciaEntrePlanetas} km, lo equivalente a {round(distanciaEntrePlanetas*.621)} millas\")"
   ]
  },
  {
   "cell_type": "markdown",
   "metadata": {},
   "source": [
    "# Problema No.2"
   ]
  },
  {
   "cell_type": "code",
   "execution_count": 6,
   "metadata": {},
   "outputs": [
    {
     "name": "stdout",
     "output_type": "stream",
     "text": [
      "5\n",
      "3\n"
     ]
    }
   ],
   "source": [
    "primerPlaneta, segundoPlaneta = input(\"Ingresa la distancia de ambos planetas hacia el sol, separando los valores con un espacio: \").split()\n",
    "\n",
    "# Convirtiendo a entero y realizar cálculo\n",
    "distancia = abs(int(primerPlaneta) - int(segundoPlaneta))\n",
    "print(distancia)\n",
    "\n",
    "# Distancia en millas\n",
    "print(round(distancia * 0.621))"
   ]
  }
 ],
 "metadata": {
  "interpreter": {
   "hash": "935b385a7d96bf7e0a76d9df1bf8edc07b604d37aea20d80398f50ca39d77283"
  },
  "kernelspec": {
   "display_name": "Python 3.10.0 64-bit",
   "language": "python",
   "name": "python3"
  },
  "language_info": {
   "codemirror_mode": {
    "name": "ipython",
    "version": 3
   },
   "file_extension": ".py",
   "mimetype": "text/x-python",
   "name": "python",
   "nbconvert_exporter": "python",
   "pygments_lexer": "ipython3",
   "version": "3.10.0"
  },
  "orig_nbformat": 4
 },
 "nbformat": 4,
 "nbformat_minor": 2
}
