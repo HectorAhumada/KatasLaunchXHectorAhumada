{
 "cells": [
  {
   "cell_type": "markdown",
   "metadata": {},
   "source": [
    "# Problema No.1"
   ]
  },
  {
   "cell_type": "code",
   "execution_count": 9,
   "metadata": {},
   "outputs": [
    {
     "name": "stdout",
     "output_type": "stream",
     "text": [
      "Mercurio\n",
      "Venus\n",
      "Tierra\n",
      "Marte\n",
      "Jupiter\n",
      "Saturno\n",
      "Urano\n",
      "Neptuno\n",
      "Plutón\n"
     ]
    }
   ],
   "source": [
    "# Creamos lista\n",
    "listaPlanetas = ['Mercurio', 'Venus', 'Tierra', 'Marte', 'Jupiter', 'Saturno', 'Urano', 'Neptuno']\n",
    "# Mostramos lista\n",
    "for planeta in listaPlanetas:\n",
    "    print(planeta)\n",
    "\n",
    "# Agregamos Plutón\n",
    "listaPlanetas.append('Plutón')\n",
    "# Mostramos último agregado, y lo sacamos de pasada por que no?\n",
    "print(listaPlanetas.pop())"
   ]
  },
  {
   "cell_type": "markdown",
   "metadata": {},
   "source": [
    "# Problema No.2"
   ]
  },
  {
   "cell_type": "code",
   "execution_count": 14,
   "metadata": {},
   "outputs": [
    {
     "name": "stdout",
     "output_type": "stream",
     "text": [
      "The planets closer to the sun than the one you input are: \n",
      "Mercury\n",
      "Venus\n",
      "Earth\n",
      "The planets further away from the sun than the one you input are:\n",
      "Jupiter\n",
      "Saturn\n",
      "Neptune\n"
     ]
    }
   ],
   "source": [
    "# Lista de planetas\n",
    "planets = ['Mercury', 'Venus', 'Earth', 'Mars', 'Jupiter', 'Saturn', 'Neptune']\n",
    "\n",
    "# Solicitamos input al usuario\n",
    "userInput = input(\"Enter a planet name, beginning with an Uppercase letter: \")\n",
    "\n",
    "# Buscamos planeta e imprimimos los más cercanos al sol al que el usuario ingresó\n",
    "planetIndex = planets.index(userInput)\n",
    "\n",
    "\n",
    "print(\"The planets closer to the sun than the one you input are: \")\n",
    "for x in range(planetIndex):\n",
    "    print(planets[x])\n",
    "\n",
    "print(\"The planets further away from the sun than the one you input are:\")\n",
    "for x in range(planetIndex+1, len(planets)):\n",
    "    print(planets[x])"
   ]
  }
 ],
 "metadata": {
  "interpreter": {
   "hash": "935b385a7d96bf7e0a76d9df1bf8edc07b604d37aea20d80398f50ca39d77283"
  },
  "kernelspec": {
   "display_name": "Python 3.10.0 64-bit",
   "language": "python",
   "name": "python3"
  },
  "language_info": {
   "codemirror_mode": {
    "name": "ipython",
    "version": 3
   },
   "file_extension": ".py",
   "mimetype": "text/x-python",
   "name": "python",
   "nbconvert_exporter": "python",
   "pygments_lexer": "ipython3",
   "version": "3.10.0"
  },
  "orig_nbformat": 4
 },
 "nbformat": 4,
 "nbformat_minor": 2
}
