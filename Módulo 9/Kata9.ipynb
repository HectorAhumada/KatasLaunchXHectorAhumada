{
 "cells": [
  {
   "cell_type": "markdown",
   "metadata": {},
   "source": [
    "# Problema No.1"
   ]
  },
  {
   "cell_type": "code",
   "execution_count": 1,
   "metadata": {},
   "outputs": [
    {
     "name": "stdout",
     "output_type": "stream",
     "text": [
      "------------ Report ---------------\n",
      "    Gas Tank 1 has 50 liters of fuel in it.\n",
      "    Gas Tank 2 has 25 liters of fuel in it.\n",
      "    Gas Tank 3 has 84 liters of fuel in it.\n",
      "    The average fuel is 53.0.\n",
      "    \n"
     ]
    }
   ],
   "source": [
    "# Creando función\n",
    "def averageGasReport(gasTank1, gasTank2, gasTank3):\n",
    "    averageGas = (gasTank1 + gasTank2 + gasTank3) / 3\n",
    "    return f\"\"\"------------ Report ---------------\n",
    "    Gas Tank 1 has {gasTank1} liters of fuel in it.\n",
    "    Gas Tank 2 has {gasTank2} liters of fuel in it.\n",
    "    Gas Tank 3 has {gasTank3} liters of fuel in it.\n",
    "    The average fuel is {averageGas}.\n",
    "    \"\"\"\n",
    "\n",
    "# Llamando la funcion\n",
    "print(averageGasReport(50, 25, 84))\n",
    "\n",
    "# Funcion promedio\n",
    "def averageGasCalc(gasTank1, gasTank2, gasTank3): \n",
    "    return (gasTank1 + gasTank2 + gasTank3) / 3\n",
    "\n",
    "# Actualizando la funcion\n",
    "def reportGasStatus(gasTank1, gasTank2, gasTank3):\n",
    "    averageGas = averageGasCalc(gasTank1, gasTank2, gasTank3)\n",
    "    return f\"\"\"------------ Report ---------------\n",
    "    Gas Tank 1 has {gasTank1} liters of fuel in it.\n",
    "    Gas Tank 2 has {gasTank2} liters of fuel in it.\n",
    "    Gas Tank 3 has {gasTank3} liters of fuel in it.\n",
    "    The average fuel is {averageGas}.\n",
    "    \"\"\""
   ]
  },
  {
   "cell_type": "markdown",
   "metadata": {},
   "source": [
    "# Problema No.2"
   ]
  },
  {
   "cell_type": "code",
   "execution_count": 10,
   "metadata": {},
   "outputs": [
    {
     "name": "stdout",
     "output_type": "stream",
     "text": [
      "Mission to Eros\n",
      "    Total flight time: 60 hours\n",
      "    Total fuel reservoirs: 100000 gallons\n",
      "    \n",
      "Mission to Io\n",
      "    Total flight time: 115 hours\n",
      "    Total fuel reservoirs: 150000 gallons\n",
      "    \n",
      "Mission to Titan\n",
      "    Total flight time: 220 hours\n",
      "    Total fuel reservoirs: 150000 gallons\n",
      "    External has 100000 gallons left\n",
      "Internal has 50000 gallons left\n",
      "\n"
     ]
    }
   ],
   "source": [
    "# Funcion con un informe preciso\n",
    "def createMissionReport(preLaunchTime, flightTime, destination, externalTank, internalTank):\n",
    "    return f\"\"\"Mission to {destination}\n",
    "    Total flight time: {preLaunchTime+flightTime} hours\n",
    "    Total fuel reservoirs: {externalTank+internalTank} gallons\n",
    "    \"\"\"\n",
    "\n",
    "print(createMissionReport(10, 50, \"Eros\", 50000, 50000))\n",
    "\n",
    "# Nueva función adaptada\n",
    "def createNewMissionReport(destination, *flightTime, **fuelReservoirs):\n",
    "    totalFlightTime = sum(flightTime)\n",
    "    totalReservoir = sum(fuelReservoirs.values())\n",
    "    return f\"\"\"Mission to {destination}\n",
    "    Total flight time: {totalFlightTime} hours\n",
    "    Total fuel reservoirs: {totalReservoir} gallons\n",
    "    \"\"\"\n",
    "\n",
    "print(createNewMissionReport(\"Io\", 15, 100, external=100000, internal=50000))\n",
    "\n",
    "# Nueva función detallada\n",
    "def createDetailedNewMissionReport(destination, *flightTime, **fuelReservoirs):\n",
    "    totalFlightTime = sum(flightTime)\n",
    "    totalReservoir = sum(fuelReservoirs.values())\n",
    "    report =  f\"\"\"Mission to {destination}\n",
    "    Total flight time: {totalFlightTime} hours\n",
    "    Total fuel reservoirs: {totalReservoir} gallons\n",
    "    \"\"\"\n",
    "    for fuelTank, capacity in fuelReservoirs.items():\n",
    "        report += f\"{fuelTank.title()} has {capacity} gallons\\n\"\n",
    "    return report\n",
    "\n",
    "print(createDetailedNewMissionReport(\"Titan\", 20, 200, external=100000, internal=50000))\n"
   ]
  }
 ],
 "metadata": {
  "interpreter": {
   "hash": "935b385a7d96bf7e0a76d9df1bf8edc07b604d37aea20d80398f50ca39d77283"
  },
  "kernelspec": {
   "display_name": "Python 3.10.0 64-bit",
   "language": "python",
   "name": "python3"
  },
  "language_info": {
   "codemirror_mode": {
    "name": "ipython",
    "version": 3
   },
   "file_extension": ".py",
   "mimetype": "text/x-python",
   "name": "python",
   "nbconvert_exporter": "python",
   "pygments_lexer": "ipython3",
   "version": "3.10.0"
  },
  "orig_nbformat": 4
 },
 "nbformat": 4,
 "nbformat_minor": 2
}
